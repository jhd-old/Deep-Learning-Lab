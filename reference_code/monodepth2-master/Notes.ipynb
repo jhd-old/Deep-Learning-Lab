{
 "cells": [],
 "metadata": {
  "language_info": {
   "codemirror_mode": {
    "name": "ipython",
    "version": 2
   },
   "file_extension": ".py",
   "mimetype": "text/x-python",
   "name": "python",
   "nbconvert_exporter": "python",
   "pygments_lexer": "ipython2",
   "version": "2.7.6"
  },
  "kernelspec": {
   "name": "python3",
   "language": "python",
   "display_name": "Python 3"
  },
  "pycharm": {
   "stem_cell": {
    "cell_type": "raw",
    "source": [
     "import numpy as np\n",
     "\n",
     "normals = np.random.rand(12, 3, 192, 640)\n",
     "superpixel = np.random.rand(12, 1, 192, 640)\n",
     "\n",
     "batch_size = normals.shape[0]\n",
     "\n",
     "for b in batchsize:\n",
     "    superpixel_1 = superpixel[b]\n",
     "    print(superpixel_1)\n",
     " \n",
     "    superpixel_indices = np.unique(superpixel[b])"
    ],
    "metadata": {
     "collapsed": false
    }
   }
  }
 },
 "nbformat": 4,
 "nbformat_minor": 0
}